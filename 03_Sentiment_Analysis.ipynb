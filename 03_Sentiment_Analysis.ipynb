{
 "cells": [
  {
   "cell_type": "markdown",
   "metadata": {},
   "source": [
    "## Importar"
   ]
  },
  {
   "cell_type": "code",
   "execution_count": 1,
   "metadata": {},
   "outputs": [],
   "source": [
    "import pandas as pd"
   ]
  },
  {
   "cell_type": "code",
   "execution_count": 2,
   "metadata": {},
   "outputs": [
    {
     "data": {
      "text/html": [
       "<div>\n",
       "<style scoped>\n",
       "    .dataframe tbody tr th:only-of-type {\n",
       "        vertical-align: middle;\n",
       "    }\n",
       "\n",
       "    .dataframe tbody tr th {\n",
       "        vertical-align: top;\n",
       "    }\n",
       "\n",
       "    .dataframe thead th {\n",
       "        text-align: right;\n",
       "    }\n",
       "</style>\n",
       "<table border=\"1\" class=\"dataframe\">\n",
       "  <thead>\n",
       "    <tr style=\"text-align: right;\">\n",
       "      <th></th>\n",
       "      <th>album</th>\n",
       "      <th>year</th>\n",
       "      <th>song_name</th>\n",
       "      <th>url</th>\n",
       "      <th>lyric</th>\n",
       "      <th>file_name</th>\n",
       "    </tr>\n",
       "  </thead>\n",
       "  <tbody>\n",
       "    <tr>\n",
       "      <th>0</th>\n",
       "      <td>Speak To Me</td>\n",
       "      <td>2008</td>\n",
       "      <td>Pistol Whip</td>\n",
       "      <td>https://www.azlyrics.com/lyrics/imaginedragons...</td>\n",
       "      <td>i can see clearly, i can see clearly i can see...</td>\n",
       "      <td>Pistol_Whip</td>\n",
       "    </tr>\n",
       "    <tr>\n",
       "      <th>1</th>\n",
       "      <td>Speak To Me</td>\n",
       "      <td>2008</td>\n",
       "      <td>Living Musical</td>\n",
       "      <td>https://www.azlyrics.com/lyrics/imaginedragons...</td>\n",
       "      <td>it all begins with a look in the eyes that goe...</td>\n",
       "      <td>Living_Musical</td>\n",
       "    </tr>\n",
       "    <tr>\n",
       "      <th>2</th>\n",
       "      <td>Speak To Me</td>\n",
       "      <td>2008</td>\n",
       "      <td>The Pit</td>\n",
       "      <td>https://www.azlyrics.com/lyrics/imaginedragons...</td>\n",
       "      <td>i would rather stay here where the flowers blo...</td>\n",
       "      <td>The_Pit</td>\n",
       "    </tr>\n",
       "    <tr>\n",
       "      <th>3</th>\n",
       "      <td>Speak To Me</td>\n",
       "      <td>2008</td>\n",
       "      <td>Speak To Me</td>\n",
       "      <td>https://www.azlyrics.com/lyrics/imaginedragons...</td>\n",
       "      <td>draw a rumor flashing lights and let all whisp...</td>\n",
       "      <td>Speak_To_Me</td>\n",
       "    </tr>\n",
       "    <tr>\n",
       "      <th>4</th>\n",
       "      <td>Speak To Me</td>\n",
       "      <td>2008</td>\n",
       "      <td>Boots</td>\n",
       "      <td>https://www.azlyrics.com/lyrics/imaginedragons...</td>\n",
       "      <td>always be careful don't ever feel good how is ...</td>\n",
       "      <td>Boots</td>\n",
       "    </tr>\n",
       "  </tbody>\n",
       "</table>\n",
       "</div>"
      ],
      "text/plain": [
       "         album  year       song_name  \\\n",
       "0  Speak To Me  2008     Pistol Whip   \n",
       "1  Speak To Me  2008  Living Musical   \n",
       "2  Speak To Me  2008         The Pit   \n",
       "3  Speak To Me  2008     Speak To Me   \n",
       "4  Speak To Me  2008           Boots   \n",
       "\n",
       "                                                 url  \\\n",
       "0  https://www.azlyrics.com/lyrics/imaginedragons...   \n",
       "1  https://www.azlyrics.com/lyrics/imaginedragons...   \n",
       "2  https://www.azlyrics.com/lyrics/imaginedragons...   \n",
       "3  https://www.azlyrics.com/lyrics/imaginedragons...   \n",
       "4  https://www.azlyrics.com/lyrics/imaginedragons...   \n",
       "\n",
       "                                               lyric       file_name  \n",
       "0  i can see clearly, i can see clearly i can see...     Pistol_Whip  \n",
       "1  it all begins with a look in the eyes that goe...  Living_Musical  \n",
       "2  i would rather stay here where the flowers blo...         The_Pit  \n",
       "3  draw a rumor flashing lights and let all whisp...     Speak_To_Me  \n",
       "4  always be careful don't ever feel good how is ...           Boots  "
      ]
     },
     "execution_count": 2,
     "metadata": {},
     "output_type": "execute_result"
    }
   ],
   "source": [
    "df = pd.read_csv(\"songs_basic_clean.tsv\", sep=\"\\t\", encoding=\"utf-8\")\n",
    "df.head()"
   ]
  },
  {
   "cell_type": "markdown",
   "metadata": {},
   "source": [
    "## Nltk VADER"
   ]
  },
  {
   "cell_type": "code",
   "execution_count": 3,
   "metadata": {},
   "outputs": [],
   "source": [
    "#!pip install nltk"
   ]
  },
  {
   "cell_type": "code",
   "execution_count": 4,
   "metadata": {},
   "outputs": [],
   "source": [
    "# Vader Sentiment Analysis\n",
    "from nltk.sentiment.vader import SentimentIntensityAnalyzer\n",
    "sid = SentimentIntensityAnalyzer()"
   ]
  },
  {
   "cell_type": "code",
   "execution_count": 5,
   "metadata": {},
   "outputs": [],
   "source": [
    "review= 'i dont feel confortable'\n",
    "scores = sid.polarity_scores(review)"
   ]
  },
  {
   "cell_type": "code",
   "execution_count": 6,
   "metadata": {},
   "outputs": [],
   "source": [
    "df['scores'] = df['lyric'].apply(lambda review: sid.polarity_scores(review))\n",
    "df['negative'] = df['scores'].apply(lambda score_dict: score_dict['neg'])\n",
    "df['positive'] = df['scores'].apply(lambda score_dict: score_dict['pos'])\n",
    "df['compound']  = df['scores'].apply(lambda score_dict: score_dict['compound'])\n",
    "#df['comp_score'] = df['compound'].apply(lambda c: 'pos' if c >=0 else 'neg')"
   ]
  },
  {
   "cell_type": "code",
   "execution_count": 7,
   "metadata": {},
   "outputs": [],
   "source": [
    "# Agrupar por album y calcular el promedio de la polaridad\n",
    "album = df.groupby(['album','year'])[['positive','negative','compound']].mean()\n",
    "album = album.reset_index()"
   ]
  },
  {
   "cell_type": "code",
   "execution_count": 8,
   "metadata": {},
   "outputs": [
    {
     "data": {
      "text/html": [
       "<div>\n",
       "<style scoped>\n",
       "    .dataframe tbody tr th:only-of-type {\n",
       "        vertical-align: middle;\n",
       "    }\n",
       "\n",
       "    .dataframe tbody tr th {\n",
       "        vertical-align: top;\n",
       "    }\n",
       "\n",
       "    .dataframe thead th {\n",
       "        text-align: right;\n",
       "    }\n",
       "</style>\n",
       "<table border=\"1\" class=\"dataframe\">\n",
       "  <thead>\n",
       "    <tr style=\"text-align: right;\">\n",
       "      <th></th>\n",
       "      <th>album</th>\n",
       "      <th>year</th>\n",
       "      <th>positive</th>\n",
       "      <th>negative</th>\n",
       "      <th>compound</th>\n",
       "    </tr>\n",
       "  </thead>\n",
       "  <tbody>\n",
       "    <tr>\n",
       "      <th>11</th>\n",
       "      <td>Speak To Me</td>\n",
       "      <td>2008</td>\n",
       "      <td>0.132400</td>\n",
       "      <td>0.064400</td>\n",
       "      <td>0.383640</td>\n",
       "    </tr>\n",
       "    <tr>\n",
       "      <th>4</th>\n",
       "      <td>Imagine Dragons</td>\n",
       "      <td>2009</td>\n",
       "      <td>0.091000</td>\n",
       "      <td>0.121833</td>\n",
       "      <td>-0.575483</td>\n",
       "    </tr>\n",
       "    <tr>\n",
       "      <th>3</th>\n",
       "      <td>Hell And Silence</td>\n",
       "      <td>2010</td>\n",
       "      <td>0.109167</td>\n",
       "      <td>0.083667</td>\n",
       "      <td>0.533567</td>\n",
       "    </tr>\n",
       "    <tr>\n",
       "      <th>5</th>\n",
       "      <td>It's Time</td>\n",
       "      <td>2011</td>\n",
       "      <td>0.105000</td>\n",
       "      <td>0.059889</td>\n",
       "      <td>0.215578</td>\n",
       "    </tr>\n",
       "    <tr>\n",
       "      <th>0</th>\n",
       "      <td>Continued Silence</td>\n",
       "      <td>2012</td>\n",
       "      <td>0.066667</td>\n",
       "      <td>0.108167</td>\n",
       "      <td>-0.026517</td>\n",
       "    </tr>\n",
       "    <tr>\n",
       "      <th>8</th>\n",
       "      <td>Night Visions</td>\n",
       "      <td>2012</td>\n",
       "      <td>0.094000</td>\n",
       "      <td>0.077688</td>\n",
       "      <td>0.185700</td>\n",
       "    </tr>\n",
       "    <tr>\n",
       "      <th>10</th>\n",
       "      <td>Smoke + Mirrors</td>\n",
       "      <td>2015</td>\n",
       "      <td>0.106238</td>\n",
       "      <td>0.108286</td>\n",
       "      <td>-0.019738</td>\n",
       "    </tr>\n",
       "    <tr>\n",
       "      <th>2</th>\n",
       "      <td>Evolve</td>\n",
       "      <td>2017</td>\n",
       "      <td>0.123583</td>\n",
       "      <td>0.076583</td>\n",
       "      <td>0.404608</td>\n",
       "    </tr>\n",
       "    <tr>\n",
       "      <th>9</th>\n",
       "      <td>Origins</td>\n",
       "      <td>2018</td>\n",
       "      <td>0.145063</td>\n",
       "      <td>0.095875</td>\n",
       "      <td>0.415813</td>\n",
       "    </tr>\n",
       "    <tr>\n",
       "      <th>1</th>\n",
       "      <td>Deep Cuts</td>\n",
       "      <td>2020</td>\n",
       "      <td>0.132615</td>\n",
       "      <td>0.118923</td>\n",
       "      <td>0.232777</td>\n",
       "    </tr>\n",
       "    <tr>\n",
       "      <th>6</th>\n",
       "      <td>Mercury - Act 1</td>\n",
       "      <td>2021</td>\n",
       "      <td>0.123214</td>\n",
       "      <td>0.075643</td>\n",
       "      <td>0.299193</td>\n",
       "    </tr>\n",
       "    <tr>\n",
       "      <th>7</th>\n",
       "      <td>Mercury - Acts 1 &amp; 2</td>\n",
       "      <td>2022</td>\n",
       "      <td>0.146844</td>\n",
       "      <td>0.086844</td>\n",
       "      <td>0.350581</td>\n",
       "    </tr>\n",
       "  </tbody>\n",
       "</table>\n",
       "</div>"
      ],
      "text/plain": [
       "                   album  year  positive  negative  compound\n",
       "11           Speak To Me  2008  0.132400  0.064400  0.383640\n",
       "4        Imagine Dragons  2009  0.091000  0.121833 -0.575483\n",
       "3       Hell And Silence  2010  0.109167  0.083667  0.533567\n",
       "5              It's Time  2011  0.105000  0.059889  0.215578\n",
       "0      Continued Silence  2012  0.066667  0.108167 -0.026517\n",
       "8          Night Visions  2012  0.094000  0.077688  0.185700\n",
       "10       Smoke + Mirrors  2015  0.106238  0.108286 -0.019738\n",
       "2                 Evolve  2017  0.123583  0.076583  0.404608\n",
       "9                Origins  2018  0.145063  0.095875  0.415813\n",
       "1              Deep Cuts  2020  0.132615  0.118923  0.232777\n",
       "6        Mercury - Act 1  2021  0.123214  0.075643  0.299193\n",
       "7   Mercury - Acts 1 & 2  2022  0.146844  0.086844  0.350581"
      ]
     },
     "execution_count": 8,
     "metadata": {},
     "output_type": "execute_result"
    }
   ],
   "source": [
    "album = album.sort_values(by='year', ascending=True)\n",
    "album"
   ]
  },
  {
   "cell_type": "code",
   "execution_count": 9,
   "metadata": {},
   "outputs": [],
   "source": [
    "album.to_csv(\"songs_sentiment.tsv\", sep=\"\\t\", index=False, encoding=\"utf-8\")"
   ]
  },
  {
   "cell_type": "code",
   "execution_count": 19,
   "metadata": {},
   "outputs": [],
   "source": [
    "songs = df[['song_name','album','year','positive','negative','compound']]\n",
    "songs.to_csv(\"songs_sentiment_by_song.tsv\", sep=\"\\t\", index=False, encoding=\"utf-8\")"
   ]
  }
 ],
 "metadata": {
  "kernelspec": {
   "display_name": ".venv",
   "language": "python",
   "name": "python3"
  },
  "language_info": {
   "codemirror_mode": {
    "name": "ipython",
    "version": 3
   },
   "file_extension": ".py",
   "mimetype": "text/x-python",
   "name": "python",
   "nbconvert_exporter": "python",
   "pygments_lexer": "ipython3",
   "version": "3.11.1"
  }
 },
 "nbformat": 4,
 "nbformat_minor": 2
}
