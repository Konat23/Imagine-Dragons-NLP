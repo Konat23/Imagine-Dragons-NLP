{
 "cells": [
  {
   "cell_type": "markdown",
   "metadata": {},
   "source": [
    "## Importar"
   ]
  },
  {
   "cell_type": "code",
   "execution_count": 30,
   "metadata": {},
   "outputs": [],
   "source": [
    "import pandas as pd"
   ]
  },
  {
   "cell_type": "code",
   "execution_count": 31,
   "metadata": {},
   "outputs": [
    {
     "data": {
      "text/html": [
       "<div>\n",
       "<style scoped>\n",
       "    .dataframe tbody tr th:only-of-type {\n",
       "        vertical-align: middle;\n",
       "    }\n",
       "\n",
       "    .dataframe tbody tr th {\n",
       "        vertical-align: top;\n",
       "    }\n",
       "\n",
       "    .dataframe thead th {\n",
       "        text-align: right;\n",
       "    }\n",
       "</style>\n",
       "<table border=\"1\" class=\"dataframe\">\n",
       "  <thead>\n",
       "    <tr style=\"text-align: right;\">\n",
       "      <th></th>\n",
       "      <th>album</th>\n",
       "      <th>year</th>\n",
       "      <th>song_name</th>\n",
       "      <th>url</th>\n",
       "      <th>lyric</th>\n",
       "      <th>file_name</th>\n",
       "    </tr>\n",
       "  </thead>\n",
       "  <tbody>\n",
       "    <tr>\n",
       "      <th>0</th>\n",
       "      <td>Speak To Me</td>\n",
       "      <td>2008</td>\n",
       "      <td>Pistol Whip</td>\n",
       "      <td>https://www.azlyrics.com/lyrics/imaginedragons...</td>\n",
       "      <td>clearly , clearly clearly , clearly clearly , ...</td>\n",
       "      <td>Pistol_Whip</td>\n",
       "    </tr>\n",
       "    <tr>\n",
       "      <th>1</th>\n",
       "      <td>Speak To Me</td>\n",
       "      <td>2008</td>\n",
       "      <td>Living Musical</td>\n",
       "      <td>https://www.azlyrics.com/lyrics/imaginedragons...</td>\n",
       "      <td>begin look eye body feeling try forget sudden ...</td>\n",
       "      <td>Living_Musical</td>\n",
       "    </tr>\n",
       "    <tr>\n",
       "      <th>2</th>\n",
       "      <td>Speak To Me</td>\n",
       "      <td>2008</td>\n",
       "      <td>The Pit</td>\n",
       "      <td>https://www.azlyrics.com/lyrics/imaginedragons...</td>\n",
       "      <td>stay flower bloom sun , shine shine light eye ...</td>\n",
       "      <td>The_Pit</td>\n",
       "    </tr>\n",
       "    <tr>\n",
       "      <th>3</th>\n",
       "      <td>Speak To Me</td>\n",
       "      <td>2008</td>\n",
       "      <td>Speak To Me</td>\n",
       "      <td>https://www.azlyrics.com/lyrics/imaginedragons...</td>\n",
       "      <td>draw rumor flash light let whisper die    sixt...</td>\n",
       "      <td>Speak_To_Me</td>\n",
       "    </tr>\n",
       "    <tr>\n",
       "      <th>4</th>\n",
       "      <td>Speak To Me</td>\n",
       "      <td>2008</td>\n",
       "      <td>Boots</td>\n",
       "      <td>https://www.azlyrics.com/lyrics/imaginedragons...</td>\n",
       "      <td>careful feel good judgment    kiss , light , n...</td>\n",
       "      <td>Boots</td>\n",
       "    </tr>\n",
       "  </tbody>\n",
       "</table>\n",
       "</div>"
      ],
      "text/plain": [
       "         album  year       song_name  \\\n",
       "0  Speak To Me  2008     Pistol Whip   \n",
       "1  Speak To Me  2008  Living Musical   \n",
       "2  Speak To Me  2008         The Pit   \n",
       "3  Speak To Me  2008     Speak To Me   \n",
       "4  Speak To Me  2008           Boots   \n",
       "\n",
       "                                                 url  \\\n",
       "0  https://www.azlyrics.com/lyrics/imaginedragons...   \n",
       "1  https://www.azlyrics.com/lyrics/imaginedragons...   \n",
       "2  https://www.azlyrics.com/lyrics/imaginedragons...   \n",
       "3  https://www.azlyrics.com/lyrics/imaginedragons...   \n",
       "4  https://www.azlyrics.com/lyrics/imaginedragons...   \n",
       "\n",
       "                                               lyric       file_name  \n",
       "0  clearly , clearly clearly , clearly clearly , ...     Pistol_Whip  \n",
       "1  begin look eye body feeling try forget sudden ...  Living_Musical  \n",
       "2  stay flower bloom sun , shine shine light eye ...         The_Pit  \n",
       "3  draw rumor flash light let whisper die    sixt...     Speak_To_Me  \n",
       "4  careful feel good judgment    kiss , light , n...           Boots  "
      ]
     },
     "execution_count": 31,
     "metadata": {},
     "output_type": "execute_result"
    }
   ],
   "source": [
    "df = pd.read_csv(\"songs_clean.tsv\", sep=\"\\t\", encoding=\"utf-8\")\n",
    "df.head()"
   ]
  },
  {
   "cell_type": "markdown",
   "metadata": {},
   "source": [
    "## Nltk VADER"
   ]
  },
  {
   "cell_type": "code",
   "execution_count": 32,
   "metadata": {},
   "outputs": [],
   "source": [
    "#!pip install nltk"
   ]
  },
  {
   "cell_type": "code",
   "execution_count": 33,
   "metadata": {},
   "outputs": [],
   "source": [
    "# Vader Sentiment Analysis\n",
    "from nltk.sentiment.vader import SentimentIntensityAnalyzer\n",
    "sid = SentimentIntensityAnalyzer()"
   ]
  },
  {
   "cell_type": "code",
   "execution_count": 34,
   "metadata": {},
   "outputs": [],
   "source": [
    "review= 'i dont feel confortable'\n",
    "scores = sid.polarity_scores(review)"
   ]
  },
  {
   "cell_type": "code",
   "execution_count": 35,
   "metadata": {},
   "outputs": [],
   "source": [
    "df['scores'] = df['lyric'].apply(lambda review: sid.polarity_scores(review))\n",
    "df['negative'] = df['scores'].apply(lambda score_dict: score_dict['neg'])\n",
    "df['positive'] = df['scores'].apply(lambda score_dict: score_dict['pos'])\n",
    "df['compound']  = df['scores'].apply(lambda score_dict: score_dict['compound'])\n",
    "#df['comp_score'] = df['compound'].apply(lambda c: 'pos' if c >=0 else 'neg')"
   ]
  },
  {
   "cell_type": "code",
   "execution_count": 51,
   "metadata": {},
   "outputs": [],
   "source": [
    "# Agrupar por album y calcular el promedio de la polaridad\n",
    "album = df.groupby(['album','year'])[['positive','negative','compound']].mean()\n",
    "album = album.reset_index()"
   ]
  },
  {
   "cell_type": "code",
   "execution_count": 53,
   "metadata": {},
   "outputs": [
    {
     "data": {
      "text/html": [
       "<div>\n",
       "<style scoped>\n",
       "    .dataframe tbody tr th:only-of-type {\n",
       "        vertical-align: middle;\n",
       "    }\n",
       "\n",
       "    .dataframe tbody tr th {\n",
       "        vertical-align: top;\n",
       "    }\n",
       "\n",
       "    .dataframe thead th {\n",
       "        text-align: right;\n",
       "    }\n",
       "</style>\n",
       "<table border=\"1\" class=\"dataframe\">\n",
       "  <thead>\n",
       "    <tr style=\"text-align: right;\">\n",
       "      <th></th>\n",
       "      <th>album</th>\n",
       "      <th>year</th>\n",
       "      <th>positive</th>\n",
       "      <th>negative</th>\n",
       "      <th>compound</th>\n",
       "    </tr>\n",
       "  </thead>\n",
       "  <tbody>\n",
       "    <tr>\n",
       "      <th>0</th>\n",
       "      <td>Continued Silence</td>\n",
       "      <td>2012</td>\n",
       "      <td>0.121167</td>\n",
       "      <td>0.234833</td>\n",
       "      <td>-0.272167</td>\n",
       "    </tr>\n",
       "    <tr>\n",
       "      <th>1</th>\n",
       "      <td>Deep Cuts</td>\n",
       "      <td>2020</td>\n",
       "      <td>0.281308</td>\n",
       "      <td>0.184615</td>\n",
       "      <td>0.365962</td>\n",
       "    </tr>\n",
       "    <tr>\n",
       "      <th>2</th>\n",
       "      <td>Evolve</td>\n",
       "      <td>2017</td>\n",
       "      <td>0.277250</td>\n",
       "      <td>0.128167</td>\n",
       "      <td>0.575475</td>\n",
       "    </tr>\n",
       "    <tr>\n",
       "      <th>3</th>\n",
       "      <td>Hell And Silence</td>\n",
       "      <td>2010</td>\n",
       "      <td>0.331500</td>\n",
       "      <td>0.151833</td>\n",
       "      <td>0.541850</td>\n",
       "    </tr>\n",
       "    <tr>\n",
       "      <th>4</th>\n",
       "      <td>Imagine Dragons</td>\n",
       "      <td>2009</td>\n",
       "      <td>0.164333</td>\n",
       "      <td>0.235000</td>\n",
       "      <td>-0.610467</td>\n",
       "    </tr>\n",
       "    <tr>\n",
       "      <th>5</th>\n",
       "      <td>It's Time</td>\n",
       "      <td>2011</td>\n",
       "      <td>0.202222</td>\n",
       "      <td>0.155444</td>\n",
       "      <td>0.258556</td>\n",
       "    </tr>\n",
       "    <tr>\n",
       "      <th>6</th>\n",
       "      <td>Mercury - Act 1</td>\n",
       "      <td>2021</td>\n",
       "      <td>0.278429</td>\n",
       "      <td>0.126000</td>\n",
       "      <td>0.461029</td>\n",
       "    </tr>\n",
       "    <tr>\n",
       "      <th>7</th>\n",
       "      <td>Mercury - Acts 1 &amp; 2</td>\n",
       "      <td>2022</td>\n",
       "      <td>0.319844</td>\n",
       "      <td>0.127594</td>\n",
       "      <td>0.630325</td>\n",
       "    </tr>\n",
       "    <tr>\n",
       "      <th>8</th>\n",
       "      <td>Night Visions</td>\n",
       "      <td>2012</td>\n",
       "      <td>0.146500</td>\n",
       "      <td>0.135625</td>\n",
       "      <td>0.085469</td>\n",
       "    </tr>\n",
       "    <tr>\n",
       "      <th>9</th>\n",
       "      <td>Origins</td>\n",
       "      <td>2018</td>\n",
       "      <td>0.258937</td>\n",
       "      <td>0.171187</td>\n",
       "      <td>0.169344</td>\n",
       "    </tr>\n",
       "    <tr>\n",
       "      <th>10</th>\n",
       "      <td>Smoke + Mirrors</td>\n",
       "      <td>2015</td>\n",
       "      <td>0.245048</td>\n",
       "      <td>0.184619</td>\n",
       "      <td>0.235690</td>\n",
       "    </tr>\n",
       "    <tr>\n",
       "      <th>11</th>\n",
       "      <td>Speak To Me</td>\n",
       "      <td>2008</td>\n",
       "      <td>0.216400</td>\n",
       "      <td>0.082200</td>\n",
       "      <td>0.955380</td>\n",
       "    </tr>\n",
       "  </tbody>\n",
       "</table>\n",
       "</div>"
      ],
      "text/plain": [
       "                   album  year  positive  negative  compound\n",
       "0      Continued Silence  2012  0.121167  0.234833 -0.272167\n",
       "1              Deep Cuts  2020  0.281308  0.184615  0.365962\n",
       "2                 Evolve  2017  0.277250  0.128167  0.575475\n",
       "3       Hell And Silence  2010  0.331500  0.151833  0.541850\n",
       "4        Imagine Dragons  2009  0.164333  0.235000 -0.610467\n",
       "5              It's Time  2011  0.202222  0.155444  0.258556\n",
       "6        Mercury - Act 1  2021  0.278429  0.126000  0.461029\n",
       "7   Mercury - Acts 1 & 2  2022  0.319844  0.127594  0.630325\n",
       "8          Night Visions  2012  0.146500  0.135625  0.085469\n",
       "9                Origins  2018  0.258937  0.171187  0.169344\n",
       "10       Smoke + Mirrors  2015  0.245048  0.184619  0.235690\n",
       "11           Speak To Me  2008  0.216400  0.082200  0.955380"
      ]
     },
     "execution_count": 53,
     "metadata": {},
     "output_type": "execute_result"
    }
   ],
   "source": [
    "album"
   ]
  },
  {
   "cell_type": "code",
   "execution_count": 52,
   "metadata": {},
   "outputs": [],
   "source": [
    "df.to_csv(\"songs_sentiment.tsv\", sep=\"\\t\", index=False, encoding=\"utf-8\")"
   ]
  }
 ],
 "metadata": {
  "kernelspec": {
   "display_name": ".venv",
   "language": "python",
   "name": "python3"
  },
  "language_info": {
   "codemirror_mode": {
    "name": "ipython",
    "version": 3
   },
   "file_extension": ".py",
   "mimetype": "text/x-python",
   "name": "python",
   "nbconvert_exporter": "python",
   "pygments_lexer": "ipython3",
   "version": "3.11.1"
  }
 },
 "nbformat": 4,
 "nbformat_minor": 2
}
