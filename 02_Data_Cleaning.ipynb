{
 "cells": [
  {
   "cell_type": "markdown",
   "metadata": {},
   "source": [
    "## Load data"
   ]
  },
  {
   "cell_type": "code",
   "execution_count": 66,
   "metadata": {},
   "outputs": [],
   "source": [
    "import pandas as pd\n",
    "df = pd.read_csv(\"songs.tsv\", sep=\"\\t\", encoding=\"utf-8\")"
   ]
  },
  {
   "cell_type": "code",
   "execution_count": 67,
   "metadata": {},
   "outputs": [
    {
     "name": "stdout",
     "output_type": "stream",
     "text": [
      "<class 'pandas.core.frame.DataFrame'>\n",
      "RangeIndex: 187 entries, 0 to 186\n",
      "Data columns (total 6 columns):\n",
      " #   Column     Non-Null Count  Dtype  \n",
      "---  ------     --------------  -----  \n",
      " 0   album      187 non-null    object \n",
      " 1   year       156 non-null    float64\n",
      " 2   song_name  187 non-null    object \n",
      " 3   url        187 non-null    object \n",
      " 4   lyric      187 non-null    object \n",
      " 5   file_name  187 non-null    object \n",
      "dtypes: float64(1), object(5)\n",
      "memory usage: 8.9+ KB\n"
     ]
    }
   ],
   "source": [
    "df.info()"
   ]
  },
  {
   "cell_type": "code",
   "execution_count": 68,
   "metadata": {},
   "outputs": [
    {
     "data": {
      "text/html": [
       "<div>\n",
       "<style scoped>\n",
       "    .dataframe tbody tr th:only-of-type {\n",
       "        vertical-align: middle;\n",
       "    }\n",
       "\n",
       "    .dataframe tbody tr th {\n",
       "        vertical-align: top;\n",
       "    }\n",
       "\n",
       "    .dataframe thead th {\n",
       "        text-align: right;\n",
       "    }\n",
       "</style>\n",
       "<table border=\"1\" class=\"dataframe\">\n",
       "  <thead>\n",
       "    <tr style=\"text-align: right;\">\n",
       "      <th></th>\n",
       "      <th>album</th>\n",
       "      <th>year</th>\n",
       "      <th>song_name</th>\n",
       "      <th>url</th>\n",
       "      <th>lyric</th>\n",
       "      <th>file_name</th>\n",
       "    </tr>\n",
       "  </thead>\n",
       "  <tbody>\n",
       "    <tr>\n",
       "      <th>0</th>\n",
       "      <td>Speak To Me</td>\n",
       "      <td>2008.0</td>\n",
       "      <td>Pistol Whip</td>\n",
       "      <td>https://www.azlyrics.com/lyrics/imaginedragons...</td>\n",
       "      <td>I can see clearly, I can see clearly I can see...</td>\n",
       "      <td>Pistol_Whip</td>\n",
       "    </tr>\n",
       "    <tr>\n",
       "      <th>1</th>\n",
       "      <td>Speak To Me</td>\n",
       "      <td>2008.0</td>\n",
       "      <td>Living Musical</td>\n",
       "      <td>https://www.azlyrics.com/lyrics/imaginedragons...</td>\n",
       "      <td>It all begins with a look in the eyes That goe...</td>\n",
       "      <td>Living_Musical</td>\n",
       "    </tr>\n",
       "    <tr>\n",
       "      <th>2</th>\n",
       "      <td>Speak To Me</td>\n",
       "      <td>2008.0</td>\n",
       "      <td>The Pit</td>\n",
       "      <td>https://www.azlyrics.com/lyrics/imaginedragons...</td>\n",
       "      <td>I would rather stay here Where the flowers blo...</td>\n",
       "      <td>The_Pit</td>\n",
       "    </tr>\n",
       "    <tr>\n",
       "      <th>3</th>\n",
       "      <td>Speak To Me</td>\n",
       "      <td>2008.0</td>\n",
       "      <td>Speak To Me</td>\n",
       "      <td>https://www.azlyrics.com/lyrics/imaginedragons...</td>\n",
       "      <td>Draw a rumor Flashing lights and Let all whisp...</td>\n",
       "      <td>Speak_To_Me</td>\n",
       "    </tr>\n",
       "    <tr>\n",
       "      <th>4</th>\n",
       "      <td>Speak To Me</td>\n",
       "      <td>2008.0</td>\n",
       "      <td>Boots</td>\n",
       "      <td>https://www.azlyrics.com/lyrics/imaginedragons...</td>\n",
       "      <td>Always be careful Don't ever feel good How is ...</td>\n",
       "      <td>Boots</td>\n",
       "    </tr>\n",
       "  </tbody>\n",
       "</table>\n",
       "</div>"
      ],
      "text/plain": [
       "         album    year       song_name  \\\n",
       "0  Speak To Me  2008.0     Pistol Whip   \n",
       "1  Speak To Me  2008.0  Living Musical   \n",
       "2  Speak To Me  2008.0         The Pit   \n",
       "3  Speak To Me  2008.0     Speak To Me   \n",
       "4  Speak To Me  2008.0           Boots   \n",
       "\n",
       "                                                 url  \\\n",
       "0  https://www.azlyrics.com/lyrics/imaginedragons...   \n",
       "1  https://www.azlyrics.com/lyrics/imaginedragons...   \n",
       "2  https://www.azlyrics.com/lyrics/imaginedragons...   \n",
       "3  https://www.azlyrics.com/lyrics/imaginedragons...   \n",
       "4  https://www.azlyrics.com/lyrics/imaginedragons...   \n",
       "\n",
       "                                               lyric       file_name  \n",
       "0  I can see clearly, I can see clearly I can see...     Pistol_Whip  \n",
       "1  It all begins with a look in the eyes That goe...  Living_Musical  \n",
       "2  I would rather stay here Where the flowers blo...         The_Pit  \n",
       "3  Draw a rumor Flashing lights and Let all whisp...     Speak_To_Me  \n",
       "4  Always be careful Don't ever feel good How is ...           Boots  "
      ]
     },
     "execution_count": 68,
     "metadata": {},
     "output_type": "execute_result"
    }
   ],
   "source": [
    "# Solo los que tienen año de lanzamiento son albumes\n",
    "df = df.dropna(subset=[\"year\"])\n",
    "df.head()"
   ]
  },
  {
   "cell_type": "markdown",
   "metadata": {},
   "source": [
    "## Special Characters"
   ]
  },
  {
   "cell_type": "code",
   "execution_count": 69,
   "metadata": {},
   "outputs": [],
   "source": [
    "## Remove special characters from lyrics\n",
    "df[\"lyric\"] = df[\"lyric\"].str.replace(r\"\\[.*\\]\", \"\")\n",
    "df[\"lyric\"] = df[\"lyric\"].str.replace(r\"\\(.*\\)\", \"\")\n",
    "df[\"lyric\"] = df[\"lyric\"].str.replace(r\"\\{.*\\}\", \"\")\n",
    "df[\"lyric\"] = df[\"lyric\"].str.replace(r\"\\*.*\\*\", \"\")\n",
    "\n",
    "## Remove _ and - from lyrics\n",
    "df[\"lyric\"] = df[\"lyric\"].str.replace(\"_\", \"\")\n",
    "df[\"lyric\"] = df[\"lyric\"].str.replace(\"-\", \"\")\n",
    "df[\"lyric\"] = df[\"lyric\"].str.replace(\"-\", \"\")\n",
    "\n",
    "import re\n",
    "def limpiar_caracteres(texto):\n",
    "    return re.sub(r'[^\\x00-\\x7F]+', '', texto)\n",
    "# Remove no ascii characters\n",
    "df['lyric'] = df['lyric'].apply(limpiar_caracteres)\n",
    "#df[\"lyric\"] = df[\"lyric\"].str.replace(r\"[^\\x00-\\x7F]+\", \"\")\n",
    "\n"
   ]
  },
  {
   "cell_type": "code",
   "execution_count": 70,
   "metadata": {},
   "outputs": [
    {
     "data": {
      "text/plain": [
       "\"Baby's got a lot of baggage It don't seem to matter, it don't seem to matter Bought a ticket to the Midwest, just for business But dismissed it from the interest It was a risk just for a mistress Who was a hostess on the West Coast Don't you see it in my eyes tonight? Baby's got a lot of baggage  Where do I have to go To find a honey with a little soul? Tokyo, Tokyo  Turn out the lights and let it go Oh, it's nice to meet you  [Kimi tanoshimu] Tokyo, Tokyo  Pay in the palms of the rock'n'roll  Get that dynamite Chickaboom on the town tonight I never seem to get it right But you can show me so politely Now don't you see it in my eyes tonight? Get that dynamite  Where do I have to go To find a honey with a little soul? Tokyo, Tokyo  Turn out the lights and let it go Oh, it's nice to meet you  Tokyo, Tokyo  Pay in the palms of the rock'n'roll  Hey! I come back to where you are Hey! I come back to where you are Get that dynamite  Where do I have to go To find a honey with a little soul? Tokyo, Tokyo  Turn out the lights and let it go Oh, it's nice to meet you  Tokyo, Tokyo  Pay in the palms of the rock'n'roll  Where do I have to go To find a honey with a little soul? Tokyo, Tokyo  Turn out the lights and let it go Oh, it's nice to meet you  Tokyo, Tokyo  Pay in the palms of the rock'n'roll  (Hey!) I come back to where you are (Hey!) I come back to where you are  Tokyo! Tokyo! Tokyo!\""
      ]
     },
     "execution_count": 70,
     "metadata": {},
     "output_type": "execute_result"
    }
   ],
   "source": [
    "df[df['song_name']==\"Tokyo\"]['lyric'].values[0]"
   ]
  },
  {
   "cell_type": "markdown",
   "metadata": {},
   "source": [
    "### Lower Case"
   ]
  },
  {
   "cell_type": "code",
   "execution_count": 71,
   "metadata": {},
   "outputs": [],
   "source": [
    "# Lowercase\n",
    "df[\"lyric\"] = df[\"lyric\"].str.lower()"
   ]
  },
  {
   "cell_type": "code",
   "execution_count": 72,
   "metadata": {},
   "outputs": [],
   "source": [
    "## Poner año como entero\n",
    "df[\"year\"] = df[\"year\"].astype(int)"
   ]
  },
  {
   "cell_type": "markdown",
   "metadata": {},
   "source": [
    "## Exportar sin lemmatizar ni quitar stopwords"
   ]
  },
  {
   "cell_type": "code",
   "execution_count": 73,
   "metadata": {},
   "outputs": [],
   "source": [
    "df.to_csv(\"songs_basic_clean.tsv\", sep=\"\\t\", index=False, encoding=\"utf-8\")"
   ]
  },
  {
   "cell_type": "markdown",
   "metadata": {},
   "source": [
    "## Lemmatization"
   ]
  },
  {
   "cell_type": "code",
   "execution_count": 74,
   "metadata": {},
   "outputs": [],
   "source": [
    "#!python -m spacy download en_core_web_sm\n",
    "#!pip install spacy"
   ]
  },
  {
   "cell_type": "code",
   "execution_count": 75,
   "metadata": {},
   "outputs": [],
   "source": [
    "import spacy\n",
    "nlp = spacy.load(\"en_core_web_sm\")"
   ]
  },
  {
   "cell_type": "code",
   "execution_count": 76,
   "metadata": {},
   "outputs": [],
   "source": [
    "def lemmatize(text):\n",
    "    doc = nlp(text)\n",
    "    return \" \".join([token.lemma_ for token in doc])"
   ]
  },
  {
   "cell_type": "code",
   "execution_count": 77,
   "metadata": {},
   "outputs": [],
   "source": [
    "df[\"lyric\"] = df[\"lyric\"].apply(lemmatize)"
   ]
  },
  {
   "cell_type": "code",
   "execution_count": 78,
   "metadata": {},
   "outputs": [
    {
     "data": {
      "text/plain": [
       "0    I can see clearly , I can see clearly I can se...\n",
       "1    it all begin with a look in the eye that go be...\n",
       "2    I would rather stay here where the flower bloo...\n",
       "3    draw a rumor flash light and let all whisper d...\n",
       "4    always be careful do not ever feel good how be...\n",
       "Name: lyric, dtype: object"
      ]
     },
     "execution_count": 78,
     "metadata": {},
     "output_type": "execute_result"
    }
   ],
   "source": [
    "df['lyric'].head()"
   ]
  },
  {
   "cell_type": "markdown",
   "metadata": {},
   "source": [
    "## Stop Words"
   ]
  },
  {
   "cell_type": "code",
   "execution_count": 79,
   "metadata": {},
   "outputs": [
    {
     "data": {
      "text/plain": [
       "'\\nfrom spacy.lang.en.stop_words import STOP_WORDS\\ndef remove_stopwords(text):\\n    doc = nlp(text)\\n    return \" \".join([token.text for token in doc if token.text.lower() not in STOP_WORDS])\\ndf[\\'lyric\\'] = df[\\'lyric\\'].apply(remove_stopwords)\\ndf[\\'lyric\\'].head()\\n'"
      ]
     },
     "execution_count": 79,
     "metadata": {},
     "output_type": "execute_result"
    }
   ],
   "source": [
    "# Remove stopwords\n",
    "# No uso stop words de spacy porque elimina mas palabras de las que quiero\n",
    "\"\"\"\n",
    "from spacy.lang.en.stop_words import STOP_WORDS\n",
    "def remove_stopwords(text):\n",
    "    doc = nlp(text)\n",
    "    return \" \".join([token.text for token in doc if token.text.lower() not in STOP_WORDS])\n",
    "df['lyric'] = df['lyric'].apply(remove_stopwords)\n",
    "df['lyric'].head()\n",
    "\"\"\""
   ]
  },
  {
   "cell_type": "code",
   "execution_count": 80,
   "metadata": {},
   "outputs": [
    {
     "name": "stderr",
     "output_type": "stream",
     "text": [
      "[nltk_data] Downloading package stopwords to\n",
      "[nltk_data]     C:\\Users\\User\\AppData\\Roaming\\nltk_data...\n",
      "[nltk_data]   Package stopwords is already up-to-date!\n"
     ]
    },
    {
     "data": {
      "text/plain": [
       "0    see clearly , see clearly see clearly , see cl...\n",
       "1    begin look eye go beyond body feeling try forg...\n",
       "2    would rather stay flower bloom sun , shine shi...\n",
       "3    draw rumor flash light let whisper die sixteen...\n",
       "4    always careful ever feel good judgment kiss , ...\n",
       "Name: lyric, dtype: object"
      ]
     },
     "execution_count": 80,
     "metadata": {},
     "output_type": "execute_result"
    }
   ],
   "source": [
    "# Stopwords de nltk\n",
    "import nltk\n",
    "nltk.download('stopwords')\n",
    "from nltk.corpus import stopwords\n",
    "stopwords = set(stopwords.words('english'))\n",
    "\n",
    "def remove_stopwords_2(text):\n",
    "    return \" \".join([word for word in text.split() if word.lower() not in stopwords])\n",
    "\n",
    "df['lyric'] = df['lyric'].apply(remove_stopwords_2)\n",
    "df['lyric'].head()"
   ]
  },
  {
   "cell_type": "markdown",
   "metadata": {},
   "source": [
    "## Exportar lemmatizado y sin stopwords"
   ]
  },
  {
   "cell_type": "code",
   "execution_count": 81,
   "metadata": {},
   "outputs": [],
   "source": [
    "df.to_csv(\"songs_clean_advance.tsv\", sep=\"\\t\", index=False, encoding=\"utf-8\")"
   ]
  }
 ],
 "metadata": {
  "kernelspec": {
   "display_name": ".venv",
   "language": "python",
   "name": "python3"
  },
  "language_info": {
   "codemirror_mode": {
    "name": "ipython",
    "version": 3
   },
   "file_extension": ".py",
   "mimetype": "text/x-python",
   "name": "python",
   "nbconvert_exporter": "python",
   "pygments_lexer": "ipython3",
   "version": "3.11.1"
  }
 },
 "nbformat": 4,
 "nbformat_minor": 2
}
