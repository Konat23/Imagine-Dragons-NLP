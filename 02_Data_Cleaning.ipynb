{
 "cells": [
  {
   "cell_type": "markdown",
   "metadata": {},
   "source": [
    "## Load data"
   ]
  },
  {
   "cell_type": "code",
   "execution_count": 156,
   "metadata": {},
   "outputs": [],
   "source": [
    "import pandas as pd\n",
    "df = pd.read_csv(\"songs.tsv\", sep=\"\\t\", encoding=\"utf-8\")"
   ]
  },
  {
   "cell_type": "code",
   "execution_count": 157,
   "metadata": {},
   "outputs": [
    {
     "name": "stdout",
     "output_type": "stream",
     "text": [
      "<class 'pandas.core.frame.DataFrame'>\n",
      "RangeIndex: 187 entries, 0 to 186\n",
      "Data columns (total 6 columns):\n",
      " #   Column     Non-Null Count  Dtype  \n",
      "---  ------     --------------  -----  \n",
      " 0   album      187 non-null    object \n",
      " 1   year       156 non-null    float64\n",
      " 2   song_name  187 non-null    object \n",
      " 3   url        187 non-null    object \n",
      " 4   lyric      187 non-null    object \n",
      " 5   file_name  187 non-null    object \n",
      "dtypes: float64(1), object(5)\n",
      "memory usage: 8.9+ KB\n"
     ]
    }
   ],
   "source": [
    "df.info()"
   ]
  },
  {
   "cell_type": "code",
   "execution_count": 158,
   "metadata": {},
   "outputs": [
    {
     "data": {
      "text/html": [
       "<div>\n",
       "<style scoped>\n",
       "    .dataframe tbody tr th:only-of-type {\n",
       "        vertical-align: middle;\n",
       "    }\n",
       "\n",
       "    .dataframe tbody tr th {\n",
       "        vertical-align: top;\n",
       "    }\n",
       "\n",
       "    .dataframe thead th {\n",
       "        text-align: right;\n",
       "    }\n",
       "</style>\n",
       "<table border=\"1\" class=\"dataframe\">\n",
       "  <thead>\n",
       "    <tr style=\"text-align: right;\">\n",
       "      <th></th>\n",
       "      <th>album</th>\n",
       "      <th>year</th>\n",
       "      <th>song_name</th>\n",
       "      <th>url</th>\n",
       "      <th>lyric</th>\n",
       "      <th>file_name</th>\n",
       "    </tr>\n",
       "  </thead>\n",
       "  <tbody>\n",
       "    <tr>\n",
       "      <th>0</th>\n",
       "      <td>Speak To Me</td>\n",
       "      <td>2008.0</td>\n",
       "      <td>Pistol Whip</td>\n",
       "      <td>https://www.azlyrics.com/lyrics/imaginedragons...</td>\n",
       "      <td>I can see clearly, I can see clearly I can see...</td>\n",
       "      <td>Pistol_Whip</td>\n",
       "    </tr>\n",
       "    <tr>\n",
       "      <th>1</th>\n",
       "      <td>Speak To Me</td>\n",
       "      <td>2008.0</td>\n",
       "      <td>Living Musical</td>\n",
       "      <td>https://www.azlyrics.com/lyrics/imaginedragons...</td>\n",
       "      <td>It all begins with a look in the eyes That goe...</td>\n",
       "      <td>Living_Musical</td>\n",
       "    </tr>\n",
       "    <tr>\n",
       "      <th>2</th>\n",
       "      <td>Speak To Me</td>\n",
       "      <td>2008.0</td>\n",
       "      <td>The Pit</td>\n",
       "      <td>https://www.azlyrics.com/lyrics/imaginedragons...</td>\n",
       "      <td>I would rather stay here Where the flowers blo...</td>\n",
       "      <td>The_Pit</td>\n",
       "    </tr>\n",
       "    <tr>\n",
       "      <th>3</th>\n",
       "      <td>Speak To Me</td>\n",
       "      <td>2008.0</td>\n",
       "      <td>Speak To Me</td>\n",
       "      <td>https://www.azlyrics.com/lyrics/imaginedragons...</td>\n",
       "      <td>Draw a rumor Flashing lights and Let all whisp...</td>\n",
       "      <td>Speak_To_Me</td>\n",
       "    </tr>\n",
       "    <tr>\n",
       "      <th>4</th>\n",
       "      <td>Speak To Me</td>\n",
       "      <td>2008.0</td>\n",
       "      <td>Boots</td>\n",
       "      <td>https://www.azlyrics.com/lyrics/imaginedragons...</td>\n",
       "      <td>Always be careful Don't ever feel good How is ...</td>\n",
       "      <td>Boots</td>\n",
       "    </tr>\n",
       "  </tbody>\n",
       "</table>\n",
       "</div>"
      ],
      "text/plain": [
       "         album    year       song_name  \\\n",
       "0  Speak To Me  2008.0     Pistol Whip   \n",
       "1  Speak To Me  2008.0  Living Musical   \n",
       "2  Speak To Me  2008.0         The Pit   \n",
       "3  Speak To Me  2008.0     Speak To Me   \n",
       "4  Speak To Me  2008.0           Boots   \n",
       "\n",
       "                                                 url  \\\n",
       "0  https://www.azlyrics.com/lyrics/imaginedragons...   \n",
       "1  https://www.azlyrics.com/lyrics/imaginedragons...   \n",
       "2  https://www.azlyrics.com/lyrics/imaginedragons...   \n",
       "3  https://www.azlyrics.com/lyrics/imaginedragons...   \n",
       "4  https://www.azlyrics.com/lyrics/imaginedragons...   \n",
       "\n",
       "                                               lyric       file_name  \n",
       "0  I can see clearly, I can see clearly I can see...     Pistol_Whip  \n",
       "1  It all begins with a look in the eyes That goe...  Living_Musical  \n",
       "2  I would rather stay here Where the flowers blo...         The_Pit  \n",
       "3  Draw a rumor Flashing lights and Let all whisp...     Speak_To_Me  \n",
       "4  Always be careful Don't ever feel good How is ...           Boots  "
      ]
     },
     "execution_count": 158,
     "metadata": {},
     "output_type": "execute_result"
    }
   ],
   "source": [
    "# Solo los que tienen año de lanzamiento son albumes\n",
    "df = df.dropna(subset=[\"year\"])\n",
    "df.head()"
   ]
  },
  {
   "cell_type": "markdown",
   "metadata": {},
   "source": [
    "## Special Characters"
   ]
  },
  {
   "cell_type": "code",
   "execution_count": 159,
   "metadata": {},
   "outputs": [],
   "source": [
    "## Remove special characters from lyrics\n",
    "df[\"lyric\"] = df[\"lyric\"].str.replace(r\"\\[.*\\]\", \"\")\n",
    "df[\"lyric\"] = df[\"lyric\"].str.replace(r\"\\(.*\\)\", \"\")\n",
    "df[\"lyric\"] = df[\"lyric\"].str.replace(r\"\\{.*\\}\", \"\")\n",
    "df[\"lyric\"] = df[\"lyric\"].str.replace(r\"\\*.*\\*\", \"\")\n",
    "\n",
    "## Remove _ and - from lyrics\n",
    "df[\"lyric\"] = df[\"lyric\"].str.replace(\"_\", \"\")\n",
    "df[\"lyric\"] = df[\"lyric\"].str.replace(\"-\", \"\")\n",
    "df[\"lyric\"] = df[\"lyric\"].str.replace(\"-\", \"\")\n"
   ]
  },
  {
   "cell_type": "code",
   "execution_count": 160,
   "metadata": {},
   "outputs": [
    {
     "data": {
      "text/plain": [
       "\"Always be careful Don't ever feel good How is JUDGMENT  Kiss, lights, make news It's open places Question rose Stop tryin' Are you vagabond  What you see is what you get Stop trying to be somebody else  So come on boots Oh walk me home Where Daddy works And Momma sews Just wanna live my life Don't wanna hear one thing Oh I plug my ears And live the dream (yeah)  Wait, explain you're zippin' off Don't let it off so easy What did you mean?  Always, be careful Don't ever feel good How is JUDGMENT?  Kiss, lights, make news It's open places Question rose Stop tryin' Are you vagabond  What you see is what you get Stop trying to be somebody else  So come on boots Oh walk me home Where Daddy works And Momma sews Just wanna live my life Don't wanna hear one thing Oh I plug my ears And live the dream (yeah)  Oh I don't want to see Your face in this broken town (Oh I don't want to see your face in this broken town)  I'm runnin' down South To bury my head in the ground (Runnin' down South, bury my head in the ground)  Oh I don't need money And I don't need you But if you come around I'm gonna bliggidy loo  Boots Oh walk me home Where Daddy works And Momma sews Just wanna live my life (wanna live my life!) Don't wanna hear one thing Oh I plug my ears And live the dream (yeah)\""
      ]
     },
     "execution_count": 160,
     "metadata": {},
     "output_type": "execute_result"
    }
   ],
   "source": [
    "df[df['song_name']==\"Boots\"]['lyric'].values[0]"
   ]
  },
  {
   "cell_type": "markdown",
   "metadata": {},
   "source": [
    "### Lower Case"
   ]
  },
  {
   "cell_type": "code",
   "execution_count": 161,
   "metadata": {},
   "outputs": [],
   "source": [
    "# Lowercase\n",
    "df[\"lyric\"] = df[\"lyric\"].str.lower()"
   ]
  },
  {
   "cell_type": "markdown",
   "metadata": {},
   "source": [
    "## Exportar sin lemmatizar ni quitar stopwords"
   ]
  },
  {
   "cell_type": "code",
   "execution_count": 162,
   "metadata": {},
   "outputs": [],
   "source": [
    "df.to_csv(\"songs_basic_clean.tsv\", sep=\"\\t\", index=False, encoding=\"utf-8\")"
   ]
  },
  {
   "cell_type": "markdown",
   "metadata": {},
   "source": [
    "## Lemmatization"
   ]
  },
  {
   "cell_type": "code",
   "execution_count": 163,
   "metadata": {},
   "outputs": [],
   "source": [
    "#!python -m spacy download en_core_web_sm\n",
    "#!pip install spacy"
   ]
  },
  {
   "cell_type": "code",
   "execution_count": 164,
   "metadata": {},
   "outputs": [],
   "source": [
    "import spacy\n",
    "nlp = spacy.load(\"en_core_web_sm\")"
   ]
  },
  {
   "cell_type": "code",
   "execution_count": 165,
   "metadata": {},
   "outputs": [],
   "source": [
    "def lemmatize(text):\n",
    "    doc = nlp(text)\n",
    "    return \" \".join([token.lemma_ for token in doc])"
   ]
  },
  {
   "cell_type": "code",
   "execution_count": 166,
   "metadata": {},
   "outputs": [],
   "source": [
    "df[\"lyric\"] = df[\"lyric\"].apply(lemmatize)"
   ]
  },
  {
   "cell_type": "code",
   "execution_count": 167,
   "metadata": {},
   "outputs": [
    {
     "data": {
      "text/plain": [
       "0    I can see clearly , I can see clearly I can se...\n",
       "1    it all begin with a look in the eye that go be...\n",
       "2    I would rather stay here where the flower bloo...\n",
       "3    draw a rumor flash light and let all whisper d...\n",
       "4    always be careful do not ever feel good how be...\n",
       "Name: lyric, dtype: object"
      ]
     },
     "execution_count": 167,
     "metadata": {},
     "output_type": "execute_result"
    }
   ],
   "source": [
    "df['lyric'].head()"
   ]
  },
  {
   "cell_type": "markdown",
   "metadata": {},
   "source": [
    "## Stop Words"
   ]
  },
  {
   "cell_type": "code",
   "execution_count": 168,
   "metadata": {},
   "outputs": [],
   "source": [
    "# Remove stopwords\n",
    "from spacy.lang.en.stop_words import STOP_WORDS\n",
    "def remove_stopwords(text):\n",
    "    doc = nlp(text)\n",
    "    return \" \".join([token.text for token in doc if token.text.lower() not in STOP_WORDS])"
   ]
  },
  {
   "cell_type": "code",
   "execution_count": 169,
   "metadata": {},
   "outputs": [],
   "source": [
    "df['lyric'] = df['lyric'].apply(remove_stopwords)"
   ]
  },
  {
   "cell_type": "code",
   "execution_count": 170,
   "metadata": {},
   "outputs": [
    {
     "data": {
      "text/plain": [
       "0    clearly , clearly clearly , clearly clearly , ...\n",
       "1    begin look eye body feeling try forget sudden ...\n",
       "2    stay flower bloom sun , shine shine light eye ...\n",
       "3    draw rumor flash light let whisper die    sixt...\n",
       "4    careful feel good judgment    kiss , light , n...\n",
       "Name: lyric, dtype: object"
      ]
     },
     "execution_count": 170,
     "metadata": {},
     "output_type": "execute_result"
    }
   ],
   "source": [
    "df['lyric'].head()"
   ]
  },
  {
   "cell_type": "code",
   "execution_count": 171,
   "metadata": {},
   "outputs": [],
   "source": [
    "## Poner año como entero\n",
    "df[\"year\"] = df[\"year\"].astype(int)"
   ]
  },
  {
   "cell_type": "markdown",
   "metadata": {},
   "source": [
    "## Exportar lemmatizado y sin stopwords"
   ]
  },
  {
   "cell_type": "code",
   "execution_count": 172,
   "metadata": {},
   "outputs": [],
   "source": [
    "df.to_csv(\"songs_clean_advance.tsv\", sep=\"\\t\", index=False, encoding=\"utf-8\")"
   ]
  }
 ],
 "metadata": {
  "kernelspec": {
   "display_name": ".venv",
   "language": "python",
   "name": "python3"
  },
  "language_info": {
   "codemirror_mode": {
    "name": "ipython",
    "version": 3
   },
   "file_extension": ".py",
   "mimetype": "text/x-python",
   "name": "python",
   "nbconvert_exporter": "python",
   "pygments_lexer": "ipython3",
   "version": "3.11.1"
  }
 },
 "nbformat": 4,
 "nbformat_minor": 2
}
